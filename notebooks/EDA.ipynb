{
 "cells": [
  {
   "cell_type": "markdown",
   "id": "caaecf5c-7266-4aed-a3a8-d738a98efaa0",
   "metadata": {},
   "source": [
    "##### Downloading of files"
   ]
  },
  {
   "cell_type": "code",
   "execution_count": 15,
   "id": "71a420fb-b8cf-484b-a588-2acf508942c7",
   "metadata": {},
   "outputs": [
    {
     "name": "stdout",
     "output_type": "stream",
     "text": [
      "d_8b84c4ee58e3cfc0ece0d773c8ca6abc\n",
      "<Response [200]>\n",
      "Downloaded d_8b84c4ee58e3cfc0ece0d773c8ca6abc.csv\n",
      "d_43f493c6c50d54243cc1eab0df142d6a\n",
      "<Response [200]>\n",
      "Downloaded d_43f493c6c50d54243cc1eab0df142d6a.csv\n",
      "d_2d5ff9ea31397b66239f245f57751537\n",
      "<Response [200]>\n",
      "Downloaded d_2d5ff9ea31397b66239f245f57751537.csv\n",
      "d_ebc5ab87086db484f88045b47411ebc5\n",
      "<Response [200]>\n",
      "Downloaded d_ebc5ab87086db484f88045b47411ebc5.csv\n",
      "d_ea9ed51da2787afaf8e51f827c304208\n",
      "<Response [200]>\n",
      "Downloaded d_ea9ed51da2787afaf8e51f827c304208.csv\n"
     ]
    }
   ],
   "source": []
  },
  {
   "cell_type": "code",
   "execution_count": null,
   "id": "fd47ad84-ad89-41aa-bd44-90238555d007",
   "metadata": {},
   "outputs": [],
   "source": []
  }
 ],
 "metadata": {
  "kernelspec": {
   "display_name": "Python 3 (ipykernel)",
   "language": "python",
   "name": "python3"
  },
  "language_info": {
   "codemirror_mode": {
    "name": "ipython",
    "version": 3
   },
   "file_extension": ".py",
   "mimetype": "text/x-python",
   "name": "python",
   "nbconvert_exporter": "python",
   "pygments_lexer": "ipython3",
   "version": "3.12.6"
  }
 },
 "nbformat": 4,
 "nbformat_minor": 5
}
