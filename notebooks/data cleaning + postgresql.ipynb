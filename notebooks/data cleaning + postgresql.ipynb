{
 "cells": [
  {
   "cell_type": "code",
   "execution_count": 1,
   "id": "6b2a2c3b-5e90-466b-a331-8c90653838e1",
   "metadata": {},
   "outputs": [
    {
     "name": "stdout",
     "output_type": "stream",
     "text": [
      "['month', 'town', 'flat_type', 'block', 'street_name', 'storey_range', 'floor_area_sqm', 'flat_model', 'lease_commence_date', 'resale_price']\n",
      "['month', 'town', 'flat_type', 'block', 'street_name', 'storey_range', 'floor_area_sqm', 'flat_model', 'lease_commence_date', 'resale_price']\n",
      "['month', 'town', 'flat_type', 'block', 'street_name', 'storey_range', 'floor_area_sqm', 'flat_model', 'lease_commence_date', 'remaining_lease', 'resale_price']\n",
      "['month', 'town', 'flat_type', 'block', 'street_name', 'storey_range', 'floor_area_sqm', 'flat_model', 'lease_commence_date', 'remaining_lease', 'resale_price']\n",
      "['month', 'town', 'flat_type', 'block', 'street_name', 'storey_range', 'floor_area_sqm', 'flat_model', 'lease_commence_date', 'resale_price']\n"
     ]
    }
   ],
   "source": [
    "import pandas as pd\n",
    "import glob\n",
    "import time\n",
    "\n",
    "path = '../data/raw/*.csv'\n",
    "csv_files = glob.glob(path)\n",
    "df = []\n",
    "\n",
    "for file in csv_files:\n",
    "    df = pd.read_csv(file)\n",
    "    print(list(df))"
   ]
  },
  {
   "cell_type": "code",
   "execution_count": 16,
   "id": "79c99bdf-ec34-4a4d-80fb-f512889578ab",
   "metadata": {},
   "outputs": [
    {
     "name": "stdout",
     "output_type": "stream",
     "text": [
      "52203\n",
      "52203\n",
      "took 16.475518703460693 seconds to run\n",
      "369651\n",
      "369651\n",
      "took 64.06027460098267 seconds to run\n",
      "195062\n",
      "195062\n",
      "took 71.21889996528625 seconds to run\n",
      "37153\n",
      "37153\n",
      "took 21.2409086227417 seconds to run\n",
      "287196\n",
      "287196\n",
      "took 157.30704402923584 seconds to run\n"
     ]
    }
   ],
   "source": [
    "def numbers_only(string):\n",
    "    year_index = string.index(' y')\n",
    "    year = float(string[:year_index])\n",
    "    duration = 0\n",
    "    if ' months' in string:\n",
    "        month_index_start = string.index('s ') + 2\n",
    "        month_index_end = string.index(' m')\n",
    "        month = string[month_index_start:month_index_end]\n",
    "        month_adjusted = float(month) / 12\n",
    "        duration = year + month_adjusted\n",
    "    else:\n",
    "        duration = year\n",
    "    return duration \n",
    "\n",
    "i = 0\n",
    "\n",
    "for file in csv_files:\n",
    "    i += 1\n",
    "    df = pd.read_csv(file)\n",
    "\n",
    "#print(df[:5])\n",
    "        \n",
    "    print(len(df))\n",
    "    df.drop_duplicates()\n",
    "    print(len(df))\n",
    "    \n",
    "    start = time.time()\n",
    "    df['month'] = df['month'].apply(lambda x: pd.to_datetime(x + '-01'))\n",
    "    df.sort_values(by='month')\n",
    "\n",
    "    elapsed = time.time() - start\n",
    "    print(f'took {elapsed} seconds to run')\n",
    "\n",
    "    if 'remaining_lease' in df.columns:\n",
    "        try:\n",
    "            df['remaining_lease'] = df['remaining_lease'].astype('int32')\n",
    "        except ValueError:\n",
    "            df['remaining_lease'] = df['remaining_lease'].apply(lambda x: numbers_only(x) if type(x) == str else None)\n",
    "    else:\n",
    "        df.insert(9, 'remaining_lease', 99 - (df['month'].dt.year - df['lease_commence_date']))\n",
    "\n",
    "    for column in df.columns:\n",
    "        exclude = ['month', 'floor_area_sqm', 'lease_commence_date', 'resale_price', 'remaining_lease']\n",
    "        if column not in exclude:\n",
    "            df[column] = df[column].str.replace('-', ' ').str.lower()\n",
    "            df[column] = df[column].astype('category')\n",
    "\n",
    "    i_string = str(i)\n",
    "    df.to_csv(f'../data/cleaned data {i_string}.csv', index=False)"
   ]
  },
  {
   "cell_type": "code",
   "execution_count": 6,
   "id": "f571313f-2bc3-4439-8053-8894bb9e3aaa",
   "metadata": {},
   "outputs": [
    {
     "name": "stdout",
     "output_type": "stream",
     "text": [
      "Connecting to symmetrical telegram at localhost with user postgres\n"
     ]
    }
   ],
   "source": [
    "import psycopg2\n",
    "import yaml\n",
    "\n",
    "def load_config():\n",
    "    with open('../config.yaml', 'r') as file:\n",
    "        config = yaml.safe_load(file)\n",
    "    return config\n",
    "\n",
    "config = load_config()\n",
    "\n",
    "database_config = config['database']\n",
    "dbname = database_config['name']\n",
    "user = database_config['user']\n",
    "password = database_config['password']\n",
    "host = database_config['host']\n",
    "\n",
    "print(f'Connecting to {dbname} at {host} with user {user}')"
   ]
  },
  {
   "cell_type": "code",
   "execution_count": 24,
   "id": "7b68f63e-3684-416b-9bdb-8cc2a0b7baa2",
   "metadata": {},
   "outputs": [
    {
     "name": "stdout",
     "output_type": "stream",
     "text": [
      "Connected to PostgreSQL\n"
     ]
    }
   ],
   "source": [
    "# Create a connection to PostgreSQL\n",
    "try:\n",
    "    conn = psycopg2.connect(dbname=dbname, user=user, password=password, host=host)\n",
    "    print(f'Connected to PostgreSQL')\n",
    "except psycopg2.Error as e:\n",
    "    print(f'Error occurred: {e}')\n",
    "    sys.exit(1) # Indicate error occurred during execution\n",
    "\n",
    "# Create a cursor object\n",
    "cursor = conn.cursor()"
   ]
  },
  {
   "cell_type": "code",
   "execution_count": 25,
   "id": "f3206e0b-8c41-41e1-b057-b7f8f46dabd8",
   "metadata": {},
   "outputs": [],
   "source": [
    "cursor.execute(\"DROP TABLE IF EXISTS flats;\")\n",
    "cursor.execute(\"DROP TABLE IF EXISTS lease;\")"
   ]
  },
  {
   "cell_type": "code",
   "execution_count": 26,
   "id": "3354e0e4-8d57-4db9-8c88-81945aca357c",
   "metadata": {},
   "outputs": [
    {
     "name": "stdout",
     "output_type": "stream",
     "text": [
      "Successfully created flats and lease tables\n"
     ]
    }
   ],
   "source": [
    "# Create the table if it doesn't already exist\n",
    "create_table_query = \"\"\"\n",
    "CREATE TABLE IF NOT EXISTS flats (\n",
    "    flat_id SERIAL PRIMARY KEY,\n",
    "    commence_date INTEGER NOT NULL,\n",
    "    remaining_lease FLOAT,\n",
    "    town VARCHAR(100) NOT NULL,\n",
    "    street_name VARCHAR(255) NOT NULL,\n",
    "    block VARCHAR(10) NOT NULL,\n",
    "    flat_type VARCHAR(50) NOT NULL,\n",
    "    flat_model VARCHAR(50) NOT NULL,\n",
    "    storey_range VARCHAR(50) NOT NULL,\n",
    "    floor_area_sqm FLOAT NOT NULL\n",
    ");\n",
    "\n",
    "CREATE TABLE IF NOT EXISTS lease (\n",
    "    lease_id SERIAL PRIMARY KEY,\n",
    "    flat_id INTEGER NOT NULL,\n",
    "    month TIMESTAMP NOT NULL,\n",
    "    resale_price FLOAT NOT NULL,\n",
    "    CONSTRAINT fk_flats FOREIGN KEY (flat_id) REFERENCES flats(flat_id)\n",
    "    ON DELETE CASCADE\n",
    "    ON UPDATE CASCADE\n",
    ");\n",
    "\"\"\"\n",
    "\n",
    "try:\n",
    "    cursor.execute(create_table_query)\n",
    "    conn.commit()  # Commit the creation of the table\n",
    "    print('Successfully created flats and lease tables')\n",
    "except psycopg2.Error as e:\n",
    "    print(f'Error occurred: {e}')\n",
    "    conn.rollback() # Rollback transaction to prevent partial changes from being kept\n",
    "    cursor.close() # Release resources\n",
    "    conn.close() # Prevent connection leaks"
   ]
  },
  {
   "cell_type": "code",
   "execution_count": 27,
   "id": "1673194d-62f1-4019-b993-3f705fc6574c",
   "metadata": {},
   "outputs": [
    {
     "name": "stdout",
     "output_type": "stream",
     "text": [
      "Successfully processed file ../data\\cleaned data 1.csv in 157.30704402923584 seconds\n",
      "Successfully processed file ../data\\cleaned data 2.csv in 157.30704402923584 seconds\n",
      "Successfully processed file ../data\\cleaned data 3.csv in 157.30704402923584 seconds\n",
      "Successfully processed file ../data\\cleaned data 4.csv in 157.30704402923584 seconds\n",
      "Successfully processed file ../data\\cleaned data 5.csv in 157.30704402923584 seconds\n"
     ]
    }
   ],
   "source": [
    "path1 = '../data/*.csv'\n",
    "csvfiles = glob.glob(path1)\n",
    "df1 = []\n",
    "\n",
    "def validate_row(row):\n",
    "    mandatory_fields = ['lease_commence_date', 'town', 'street_name', 'block', 'flat_type', 'flat_model', 'storey_range', 'floor_area_sqm', 'month', \n",
    "                        'resale_price']\n",
    "    for field in mandatory_fields:\n",
    "        if pd.isnull(row[field]):\n",
    "            return False\n",
    "    return True\n",
    "\n",
    "for file in csvfiles:\n",
    "    start1 = time.time()\n",
    "    df1 = pd.read_csv(file)\n",
    "\n",
    "    # Create a list to store values for batch insertion\n",
    "    flat_values = []\n",
    "    lease_values = []\n",
    "\n",
    "    for index, row in df1.iterrows():\n",
    "        if not validate_row(row):\n",
    "            print(f'Skipping row {index} in file {file} due to missing mandatory information')\n",
    "            continue\n",
    "\n",
    "        # Prepare flat data for batch insert\n",
    "        flat_values.append((row['lease_commence_date'], row['town'], row['street_name'], row['block'], row['flat_type'], row['flat_model'], \n",
    "                            row['storey_range'], row['floor_area_sqm'], row['remaining_lease']))\n",
    "\n",
    "        # Prepare lease data for batch insert\n",
    "        lease_values.append((row['town'], row['street_name'], row['month'], row['resale_price']))\n",
    "\n",
    "    try:\n",
    "        # Bulk insert into flats table\n",
    "        insert_flats_query = \"\"\"\n",
    "            INSERT INTO flats (commence_date, town, street_name, block, flat_type, flat_model, storey_range, floor_area_sqm, remaining_lease)\n",
    "            VALUES (%s, %s, %s, %s, %s, %s, %s, %s, %s)\n",
    "        \"\"\"\n",
    "        cursor.executemany(insert_flats_query, flat_values)\n",
    "\n",
    "        # Commit after bulk insert\n",
    "        conn.commit()\n",
    "\n",
    "        # Retrieve flat_ids for the inserted flats in one query\n",
    "        pairs_set = set()\n",
    "        for row in lease_values:\n",
    "            town = row[0]\n",
    "            street_name = row[1]\n",
    "            pairs_set.add((town, street_name))\n",
    "        pairs = tuple(pairs_set) # A tuple of tuples\n",
    "\n",
    "        cursor.execute(\"\"\"\n",
    "            SELECT flat_id, town, street_name FROM flats WHERE (town, street_name) IN %s\n",
    "        \"\"\", (pairs,)) # Pass pairs as a single argument\n",
    "        flat_ids = {f\"{town}-{street_name}\": flat_id for flat_id, town, street_name in cursor.fetchall()}\n",
    "\n",
    "        # Now prepare lease data using the fetched flat_ids\n",
    "        lease_values = [(flat_ids[f\"{town}-{street_name}\"], month, resale_price) for town, street_name, month, resale_price in lease_values]\n",
    "\n",
    "        # Bulk insert into lease table\n",
    "        insert_lease_query = \"\"\"\n",
    "            INSERT INTO lease (flat_id, month, resale_price)\n",
    "            VALUES (%s, %s, %s)\n",
    "        \"\"\"\n",
    "        cursor.executemany(insert_lease_query, lease_values)\n",
    "\n",
    "        # Commit after bulk insert into lease table\n",
    "        conn.commit()\n",
    "\n",
    "        elapsed1 = time.time() - start1\n",
    "        print(f'Successfully processed file {file} in {elapsed} seconds')\n",
    "    \n",
    "    except psycopg2.Error as e:\n",
    "        print(f'Error processing file {file}: {e}')\n",
    "        conn.rollback()\n",
    "        continue\n",
    "\n",
    "# Close the cursor and connection\n",
    "cursor.close()\n",
    "conn.close()"
   ]
  },
  {
   "cell_type": "code",
   "execution_count": 28,
   "id": "5add6303-8263-4dc5-9eb3-9996d999cf09",
   "metadata": {},
   "outputs": [
    {
     "name": "stdout",
     "output_type": "stream",
     "text": [
      "Closed connection\n"
     ]
    }
   ],
   "source": [
    "# Close the cursor and connection\n",
    "cursor.close()\n",
    "conn.close()\n",
    "print ('Closed connection')"
   ]
  }
 ],
 "metadata": {
  "kernelspec": {
   "display_name": "virtenv",
   "language": "python",
   "name": "virtenv"
  },
  "language_info": {
   "codemirror_mode": {
    "name": "ipython",
    "version": 3
   },
   "file_extension": ".py",
   "mimetype": "text/x-python",
   "name": "python",
   "nbconvert_exporter": "python",
   "pygments_lexer": "ipython3",
   "version": "3.10.11"
  }
 },
 "nbformat": 4,
 "nbformat_minor": 5
}
