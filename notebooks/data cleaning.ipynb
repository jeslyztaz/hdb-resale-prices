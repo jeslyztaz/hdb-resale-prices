{
 "cells": [
  {
   "cell_type": "code",
   "execution_count": 2,
   "id": "6b2a2c3b-5e90-466b-a331-8c90653838e1",
   "metadata": {},
   "outputs": [
    {
     "name": "stdout",
     "output_type": "stream",
     "text": [
      "['month', 'town', 'flat_type', 'block', 'street_name', 'storey_range', 'floor_area_sqm', 'flat_model', 'lease_commence_date', 'resale_price']\n",
      "['month', 'town', 'flat_type', 'block', 'street_name', 'storey_range', 'floor_area_sqm', 'flat_model', 'lease_commence_date', 'resale_price']\n",
      "['month', 'town', 'flat_type', 'block', 'street_name', 'storey_range', 'floor_area_sqm', 'flat_model', 'lease_commence_date', 'remaining_lease', 'resale_price']\n",
      "['month', 'town', 'flat_type', 'block', 'street_name', 'storey_range', 'floor_area_sqm', 'flat_model', 'lease_commence_date', 'remaining_lease', 'resale_price']\n",
      "['month', 'town', 'flat_type', 'block', 'street_name', 'storey_range', 'floor_area_sqm', 'flat_model', 'lease_commence_date', 'resale_price']\n"
     ]
    }
   ],
   "source": [
    "import pandas as pd\n",
    "import glob\n",
    "import time\n",
    "\n",
    "path = '../data/raw/*.csv'\n",
    "csv_files = glob.glob(path)\n",
    "df = []\n",
    "\n",
    "for file in csv_files:\n",
    "    df = pd.read_csv(file)\n",
    "    print(list(df))"
   ]
  },
  {
   "cell_type": "code",
   "execution_count": 5,
   "id": "79c99bdf-ec34-4a4d-80fb-f512889578ab",
   "metadata": {},
   "outputs": [
    {
     "name": "stdout",
     "output_type": "stream",
     "text": [
      "52203\n",
      "52203\n",
      "took 33.86044144630432 seconds to run\n",
      "369651\n",
      "369651\n",
      "took 211.72824263572693 seconds to run\n",
      "195062\n",
      "195062\n",
      "took 107.92504262924194 seconds to run\n",
      "37153\n",
      "37153\n",
      "took 19.941157817840576 seconds to run\n",
      "287196\n",
      "287196\n",
      "took 156.9709141254425 seconds to run\n"
     ]
    }
   ],
   "source": [
    "def shift_column(df, col):\n",
    "    col_list = list(df)\n",
    "    #col1_index = df.columns.get_loc(col1) #or list(df.columns).index(col1)\n",
    "    #col2_index = df.columns.get_loc(col2)\n",
    "    #col_list[col1_index], col_list[col2_index] = col_list[col2_index], col_list[col1_index]\n",
    "    #df.columns = col_list\n",
    "    col1 = df.pop(col)\n",
    "    df.insert(len(col_list) - 1, col, col1)\n",
    "\n",
    "def numbers_only(string):\n",
    "    year_index = string.index(' y')\n",
    "    year = string[:year_index]\n",
    "    duration = 0\n",
    "    if ' months' in string:\n",
    "        month_index_start = string.index('s ') + 2\n",
    "        month_index_end = string.index(' m')\n",
    "        month = string[month_index_start:month_index_end]\n",
    "        month_adjusted = str(float(month) / 12)\n",
    "        duration = float(year + month_adjusted)\n",
    "    else:\n",
    "        duration = year\n",
    "    return duration \n",
    "\n",
    "i = 0\n",
    "\n",
    "for file in csv_files:\n",
    "    i += 1\n",
    "    df = pd.read_csv(file)\n",
    "    if 'remaining_lease' in df.columns:\n",
    "        shift_column(df, 'remaining_lease') #idt need to define a separate function\n",
    "        #print(df1[:5])\n",
    "     #df = pd.concat([df, df1]) #I realised I forgot to exclude header when concatenating...\n",
    "\n",
    "#print(df[:5])\n",
    "        \n",
    "    print(len(df))\n",
    "    df.drop_duplicates()\n",
    "    print(len(df))\n",
    "    \n",
    "    start = time.time()\n",
    "    df['month'] = df['month'].apply(lambda x: pd.to_datetime(x + '-01'))\n",
    "    df.sort_values(by='month')\n",
    "\n",
    "    elapsed = time.time() - start\n",
    "    print(f'took {elapsed} seconds to run')\n",
    "\n",
    "    if 'remaining_lease' in df.columns:\n",
    "        try:\n",
    "            df['remaining_lease'].astype('int32')\n",
    "        except ValueError:\n",
    "            df['remaining_lease'].apply(lambda x: numbers_only(x) if type(x) == str else None)\n",
    "\n",
    "    for column in df.columns:\n",
    "        exclude = ['month', 'floor_area_sqm', 'lease_commence_date', 'resale_price', 'remaining_lease']\n",
    "        if column not in exclude:\n",
    "            df[column] = df[column].str.replace('-', ' ').str.lower()\n",
    "            df[column] = df[column].astype('category')\n",
    "\n",
    "    i_string = str(i)\n",
    "    df.to_csv(f'../data/cleaned data {i_string}.csv', index=False)"
   ]
  }
 ],
 "metadata": {
  "kernelspec": {
   "display_name": "virtenv",
   "language": "python",
   "name": "virtenv"
  },
  "language_info": {
   "codemirror_mode": {
    "name": "ipython",
    "version": 3
   },
   "file_extension": ".py",
   "mimetype": "text/x-python",
   "name": "python",
   "nbconvert_exporter": "python",
   "pygments_lexer": "ipython3",
   "version": "3.10.11"
  }
 },
 "nbformat": 4,
 "nbformat_minor": 5
}
